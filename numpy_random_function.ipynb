{
  "nbformat": 4,
  "nbformat_minor": 0,
  "metadata": {
    "colab": {
      "provenance": [],
      "authorship_tag": "ABX9TyP1O4nYlcl+MJfQUGC8fVtx",
      "include_colab_link": true
    },
    "kernelspec": {
      "name": "python3",
      "display_name": "Python 3"
    },
    "language_info": {
      "name": "python"
    }
  },
  "cells": [
    {
      "cell_type": "markdown",
      "metadata": {
        "id": "view-in-github",
        "colab_type": "text"
      },
      "source": [
        "<a href=\"https://colab.research.google.com/github/correlative/collab-prtc/blob/main/numpy_random_function.ipynb\" target=\"_parent\"><img src=\"https://colab.research.google.com/assets/colab-badge.svg\" alt=\"Open In Colab\"/></a>"
      ]
    },
    {
      "cell_type": "code",
      "execution_count": 1,
      "metadata": {
        "id": "uAQyObp9oQ6r"
      },
      "outputs": [],
      "source": [
        "import numpy as np"
      ]
    },
    {
      "cell_type": "code",
      "source": [
        "rand_mat = np.random.rand(5)\n",
        "rand_mat\n",
        "\n"
      ],
      "metadata": {
        "colab": {
          "base_uri": "https://localhost:8080/"
        },
        "id": "0oEHfUWYo0wP",
        "outputId": "5a928133-b05c-41a0-fbd2-a685a4453eca"
      },
      "execution_count": 3,
      "outputs": [
        {
          "output_type": "execute_result",
          "data": {
            "text/plain": [
              "array([0.98600699, 0.23516431, 0.97637364, 0.16873098, 0.0215549 ])"
            ]
          },
          "metadata": {},
          "execution_count": 3
        }
      ]
    },
    {
      "cell_type": "code",
      "source": [
        "rand_mat_sq = np.random.rand(5, 5)\n",
        "rand_mat_sq"
      ],
      "metadata": {
        "colab": {
          "base_uri": "https://localhost:8080/"
        },
        "id": "n92DfiMgpNbf",
        "outputId": "6cad3ab4-bd87-4bca-c746-21310c2e8a16"
      },
      "execution_count": 5,
      "outputs": [
        {
          "output_type": "execute_result",
          "data": {
            "text/plain": [
              "array([[0.06936718, 0.06077761, 0.74465232, 0.09606513, 0.38071235],\n",
              "       [0.80216127, 0.79486153, 0.93610271, 0.63164925, 0.64049447],\n",
              "       [0.19765561, 0.20255833, 0.47796586, 0.16917768, 0.52621959],\n",
              "       [0.38740044, 0.74052169, 0.69868122, 0.48319027, 0.88861285],\n",
              "       [0.34004426, 0.79242323, 0.07699065, 0.90902279, 0.8350628 ]])"
            ]
          },
          "metadata": {},
          "execution_count": 5
        }
      ]
    },
    {
      "cell_type": "code",
      "source": [
        "rand_mat_n = np.random.randn(5)\n",
        "rand_mat_n\n"
      ],
      "metadata": {
        "colab": {
          "base_uri": "https://localhost:8080/"
        },
        "id": "P7JUlQNfpcJG",
        "outputId": "c6e7354b-3728-40fa-8034-8a2165513dad"
      },
      "execution_count": 8,
      "outputs": [
        {
          "output_type": "execute_result",
          "data": {
            "text/plain": [
              "array([-0.22757873,  0.83157867,  0.36091241, -0.99253633,  1.0444742 ])"
            ]
          },
          "metadata": {},
          "execution_count": 8
        }
      ]
    },
    {
      "cell_type": "code",
      "source": [
        "rand_mat_nsq = np.random.randn(5, 5)\n",
        "rand_mat_nsq"
      ],
      "metadata": {
        "colab": {
          "base_uri": "https://localhost:8080/"
        },
        "id": "JRC_q3EEpcVD",
        "outputId": "be9f3151-46cd-418a-9ad1-961938ca93c0"
      },
      "execution_count": 9,
      "outputs": [
        {
          "output_type": "execute_result",
          "data": {
            "text/plain": [
              "array([[-0.91082895, -0.76784416, -0.1665933 , -0.18359341, -0.32418846],\n",
              "       [ 0.4064156 ,  0.95818888,  0.85081074,  0.88234358, -1.35312086],\n",
              "       [-0.20759954,  0.49625749, -1.40474622, -1.89796665, -1.4563397 ],\n",
              "       [ 0.55622428, -0.28513933,  0.9121128 , -0.5548148 , -0.26254512],\n",
              "       [ 0.68312743, -0.0172577 ,  2.24679061,  0.90630182,  0.80902524]])"
            ]
          },
          "metadata": {},
          "execution_count": 9
        }
      ]
    },
    {
      "cell_type": "code",
      "source": [
        "print(f\"mean of matrix: {np.mean(rand_mat_n)}\")\n",
        "print(f\"mean of matrix: {np.mean(rand_mat_nsq)}\")"
      ],
      "metadata": {
        "colab": {
          "base_uri": "https://localhost:8080/"
        },
        "id": "_Cm4DrB2rgzN",
        "outputId": "54189e23-8748-41a1-bef2-a255ddfb85c5"
      },
      "execution_count": 10,
      "outputs": [
        {
          "output_type": "stream",
          "name": "stdout",
          "text": [
            "mean of matrix: 0.20337004195884117\n",
            "mean of matrix: -0.0033991900164435764\n"
          ]
        }
      ]
    },
    {
      "cell_type": "code",
      "source": [
        "print(f\"std of matrix: {np.std(rand_mat_n)}\")\n",
        "print(f\"std of matrix: {np.std(rand_mat_nsq)}\")"
      ],
      "metadata": {
        "colab": {
          "base_uri": "https://localhost:8080/"
        },
        "id": "5vBXLmiWrt_8",
        "outputId": "bad1e530-b75b-4bd6-b1ae-30c09d8c49aa"
      },
      "execution_count": 11,
      "outputs": [
        {
          "output_type": "stream",
          "name": "stdout",
          "text": [
            "std of matrix: 0.7406525204591318\n",
            "std of matrix: 0.9503328785711527\n"
          ]
        }
      ]
    },
    {
      "cell_type": "code",
      "source": [
        "rand_mat_1 = np.random.randint(0, 5, 10)\n",
        "print(f\"random int: {rand_mat_1}\")"
      ],
      "metadata": {
        "colab": {
          "base_uri": "https://localhost:8080/"
        },
        "id": "S6CiiHdyr93R",
        "outputId": "6958b650-0c45-4204-dc42-404be1b6bb3b"
      },
      "execution_count": 12,
      "outputs": [
        {
          "output_type": "stream",
          "name": "stdout",
          "text": [
            "random int: [0 0 2 3 0 4 1 0 3 0]\n"
          ]
        }
      ]
    },
    {
      "cell_type": "code",
      "source": [
        "rand_mat_2 = np.random.randint(0, 5, [5, 5])\n",
        "print(f\"random int: \\n{rand_mat_2}\")"
      ],
      "metadata": {
        "colab": {
          "base_uri": "https://localhost:8080/"
        },
        "id": "EqY4LQexsReo",
        "outputId": "07d0438a-635a-4365-c607-03ca7599e719"
      },
      "execution_count": 15,
      "outputs": [
        {
          "output_type": "stream",
          "name": "stdout",
          "text": [
            "random int: \n",
            "[[0 3 2 2 0]\n",
            " [2 1 0 1 2]\n",
            " [1 2 2 4 2]\n",
            " [1 0 1 0 4]\n",
            " [2 0 4 4 1]]\n"
          ]
        }
      ]
    }
  ]
}