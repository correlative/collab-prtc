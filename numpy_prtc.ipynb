{
  "nbformat": 4,
  "nbformat_minor": 0,
  "metadata": {
    "colab": {
      "provenance": [],
      "authorship_tag": "ABX9TyPCZMXdmE4MnnQf7n9sdIT5",
      "include_colab_link": true
    },
    "kernelspec": {
      "name": "python3",
      "display_name": "Python 3"
    },
    "language_info": {
      "name": "python"
    }
  },
  "cells": [
    {
      "cell_type": "markdown",
      "metadata": {
        "id": "view-in-github",
        "colab_type": "text"
      },
      "source": [
        "<a href=\"https://colab.research.google.com/github/correlative/collab-prtc/blob/main/numpy_prtc.ipynb\" target=\"_parent\"><img src=\"https://colab.research.google.com/assets/colab-badge.svg\" alt=\"Open In Colab\"/></a>"
      ]
    },
    {
      "cell_type": "code",
      "execution_count": 1,
      "metadata": {
        "id": "HyacxSkH70Ii"
      },
      "outputs": [],
      "source": [
        "import numpy as np"
      ]
    },
    {
      "cell_type": "code",
      "source": [
        "arr_str = [\"Mercedes\", \"BMW\", \"Porsche\", \"Audi\", \"Ferrari\"]"
      ],
      "metadata": {
        "id": "WU3_MKEC794_"
      },
      "execution_count": 2,
      "outputs": []
    },
    {
      "cell_type": "code",
      "source": [
        "arr_num = [1,2,3,4,5,6,7,8,9]"
      ],
      "metadata": {
        "id": "isj80GuH8o-1"
      },
      "execution_count": 3,
      "outputs": []
    },
    {
      "cell_type": "code",
      "source": [
        "np_arr_str = np.array(arr_str)\n",
        "np_arr_num = np.array(arr_num)"
      ],
      "metadata": {
        "id": "CZZ1OuRv8wWf"
      },
      "execution_count": 4,
      "outputs": []
    },
    {
      "cell_type": "code",
      "source": [
        "print(np_arr_str)\n",
        "print(np_arr_num)\n",
        "\n",
        "print(\"--------\")\n",
        "\n",
        "print(arr_str)\n",
        "print(arr_num)"
      ],
      "metadata": {
        "colab": {
          "base_uri": "https://localhost:8080/"
        },
        "id": "JkQQKygf9E1K",
        "outputId": "8d7f7972-40a9-4703-80be-f16ca0937995"
      },
      "execution_count": 6,
      "outputs": [
        {
          "output_type": "stream",
          "name": "stdout",
          "text": [
            "['Mercedes' 'BMW' 'Porsche' 'Audi' 'Ferrari']\n",
            "[1 2 3 4 5 6 7 8 9]\n",
            "--------\n",
            "['Mercedes', 'BMW', 'Porsche', 'Audi', 'Ferrari']\n",
            "[1, 2, 3, 4, 5, 6, 7, 8, 9]\n"
          ]
        }
      ]
    },
    {
      "cell_type": "code",
      "source": [
        "print(type(arr_str))\n",
        "print(type(np_arr_str))"
      ],
      "metadata": {
        "colab": {
          "base_uri": "https://localhost:8080/"
        },
        "id": "KoiIpl1U9oiB",
        "outputId": "3ad2e382-e5f4-4924-edce-02c360cf3211"
      },
      "execution_count": 8,
      "outputs": [
        {
          "output_type": "stream",
          "name": "stdout",
          "text": [
            "<class 'list'>\n",
            "<class 'numpy.ndarray'>\n"
          ]
        }
      ]
    },
    {
      "cell_type": "code",
      "source": [
        "np_matrix = np.array([[1,2,3], [12,23,34], [123,234,456]])\n",
        "print(type(np_matrix))\n",
        "print(np_matrix)"
      ],
      "metadata": {
        "colab": {
          "base_uri": "https://localhost:8080/"
        },
        "id": "4t9RZFYa-ami",
        "outputId": "d367b5fa-5acd-4678-97b9-92fe806980a1"
      },
      "execution_count": 10,
      "outputs": [
        {
          "output_type": "stream",
          "name": "stdout",
          "text": [
            "<class 'numpy.ndarray'>\n",
            "[[  1   2   3]\n",
            " [ 12  23  34]\n",
            " [123 234 456]]\n"
          ]
        }
      ]
    }
  ]
}