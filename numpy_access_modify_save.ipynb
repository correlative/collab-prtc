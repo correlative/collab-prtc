{
  "nbformat": 4,
  "nbformat_minor": 0,
  "metadata": {
    "colab": {
      "provenance": [],
      "authorship_tag": "ABX9TyMUEDmIEPtCD36bssidOHr9",
      "include_colab_link": true
    },
    "kernelspec": {
      "name": "python3",
      "display_name": "Python 3"
    },
    "language_info": {
      "name": "python"
    }
  },
  "cells": [
    {
      "cell_type": "markdown",
      "metadata": {
        "id": "view-in-github",
        "colab_type": "text"
      },
      "source": [
        "<a href=\"https://colab.research.google.com/github/correlative/collab-prtc/blob/main/numpy_access_modify_save.ipynb\" target=\"_parent\"><img src=\"https://colab.research.google.com/assets/colab-badge.svg\" alt=\"Open In Colab\"/></a>"
      ]
    },
    {
      "cell_type": "code",
      "execution_count": 1,
      "metadata": {
        "id": "jBDgavoCttID"
      },
      "outputs": [],
      "source": [
        "import numpy as np"
      ]
    },
    {
      "cell_type": "code",
      "source": [
        "rand_arr = np.random.randint(1, 10, [6, 6])\n",
        "rand_arr"
      ],
      "metadata": {
        "colab": {
          "base_uri": "https://localhost:8080/"
        },
        "id": "fZ6BHWIIt-9P",
        "outputId": "000d7b76-7e60-4f55-d603-dec5ab34d859"
      },
      "execution_count": 2,
      "outputs": [
        {
          "output_type": "execute_result",
          "data": {
            "text/plain": [
              "array([[7, 8, 5, 8, 2, 8],\n",
              "       [7, 8, 5, 9, 3, 2],\n",
              "       [4, 5, 4, 6, 7, 8],\n",
              "       [5, 5, 3, 3, 7, 9],\n",
              "       [3, 2, 5, 3, 3, 1],\n",
              "       [2, 5, 6, 7, 6, 4]])"
            ]
          },
          "metadata": {},
          "execution_count": 2
        }
      ]
    },
    {
      "cell_type": "code",
      "source": [
        "print(f\"a row: {rand_arr[3]}\")"
      ],
      "metadata": {
        "colab": {
          "base_uri": "https://localhost:8080/"
        },
        "id": "h8e-zj1wuX_9",
        "outputId": "13ed23de-39ea-41b2-cb1f-537a1bece01c"
      },
      "execution_count": 3,
      "outputs": [
        {
          "output_type": "stream",
          "name": "stdout",
          "text": [
            "a row: [5 5 3 3 7 9]\n"
          ]
        }
      ]
    },
    {
      "cell_type": "code",
      "source": [
        "print(f\"uptill a row :\\n{rand_arr[:2]}\")"
      ],
      "metadata": {
        "colab": {
          "base_uri": "https://localhost:8080/"
        },
        "id": "DCYgU7JouglH",
        "outputId": "7629e519-0e45-4985-8c7c-ffc878f73949"
      },
      "execution_count": 4,
      "outputs": [
        {
          "output_type": "stream",
          "name": "stdout",
          "text": [
            "uptill a row :\n",
            "[[7 8 5 8 2 8]\n",
            " [7 8 5 9 3 2]]\n"
          ]
        }
      ]
    },
    {
      "cell_type": "code",
      "source": [
        "print(f\"subset: \\n{rand_arr[1:3]}\")"
      ],
      "metadata": {
        "colab": {
          "base_uri": "https://localhost:8080/"
        },
        "id": "vYkMCX28uur5",
        "outputId": "fe2cb0d0-2270-48a5-ba82-360ec18cf985"
      },
      "execution_count": 5,
      "outputs": [
        {
          "output_type": "stream",
          "name": "stdout",
          "text": [
            "subset: \n",
            "[[7 8 5 9 3 2]\n",
            " [4 5 4 6 7 8]]\n"
          ]
        }
      ]
    },
    {
      "cell_type": "code",
      "source": [
        "neg_mat = np.random.randint(-5, 5, 6)\n",
        "neg_mat"
      ],
      "metadata": {
        "colab": {
          "base_uri": "https://localhost:8080/"
        },
        "id": "J32WvzuMvPp4",
        "outputId": "3ad93297-55cb-4907-9ba1-0e24d8e49ffb"
      },
      "execution_count": 6,
      "outputs": [
        {
          "output_type": "execute_result",
          "data": {
            "text/plain": [
              "array([ 4, -2,  0,  3, -4,  3])"
            ]
          },
          "metadata": {},
          "execution_count": 6
        }
      ]
    },
    {
      "cell_type": "code",
      "source": [
        "neg_mat"
      ],
      "metadata": {
        "colab": {
          "base_uri": "https://localhost:8080/"
        },
        "id": "NYRNhPsJv3qr",
        "outputId": "25aebd6b-038a-4c03-86fe-53dc33a72fe7"
      },
      "execution_count": 7,
      "outputs": [
        {
          "output_type": "execute_result",
          "data": {
            "text/plain": [
              "array([ 4, -2,  0,  3, -4,  3])"
            ]
          },
          "metadata": {},
          "execution_count": 7
        }
      ]
    },
    {
      "cell_type": "code",
      "source": [
        "rand_arr[:] < 1"
      ],
      "metadata": {
        "colab": {
          "base_uri": "https://localhost:8080/"
        },
        "id": "Xpp8XjSAv9vJ",
        "outputId": "6727bcd4-acc7-40b1-9d9b-315c5af870a6"
      },
      "execution_count": 8,
      "outputs": [
        {
          "output_type": "execute_result",
          "data": {
            "text/plain": [
              "array([[False, False, False, False, False, False],\n",
              "       [False, False, False, False, False, False],\n",
              "       [False, False, False, False, False, False],\n",
              "       [False, False, False, False, False, False],\n",
              "       [False, False, False, False, False, False],\n",
              "       [False, False, False, False, False, False]])"
            ]
          },
          "metadata": {},
          "execution_count": 8
        }
      ]
    },
    {
      "cell_type": "code",
      "source": [
        "print(f\"less than zero: {rand_arr[rand_arr<0]}\")"
      ],
      "metadata": {
        "colab": {
          "base_uri": "https://localhost:8080/"
        },
        "id": "9M9paE_1vahv",
        "outputId": "7f3fc225-61aa-46d1-d117-260574f556f7"
      },
      "execution_count": 9,
      "outputs": [
        {
          "output_type": "stream",
          "name": "stdout",
          "text": [
            "less than zero: []\n"
          ]
        }
      ]
    },
    {
      "cell_type": "code",
      "source": [
        "print(f\"more than zero: {rand_arr[rand_arr > 0]}\")"
      ],
      "metadata": {
        "colab": {
          "base_uri": "https://localhost:8080/"
        },
        "id": "-5gEpR7Svyh5",
        "outputId": "b3f264c7-06c1-4e58-c0a8-859a13c0cffe"
      },
      "execution_count": 10,
      "outputs": [
        {
          "output_type": "stream",
          "name": "stdout",
          "text": [
            "more than zero: [7 8 5 8 2 8 7 8 5 9 3 2 4 5 4 6 7 8 5 5 3 3 7 9 3 2 5 3 3 1 2 5 6 7 6 4]\n"
          ]
        }
      ]
    },
    {
      "cell_type": "code",
      "source": [
        "matrix = np.array([[1,2,3],[4,5,6],[7,8,9]])\n",
        "print(matrix[1][1])"
      ],
      "metadata": {
        "colab": {
          "base_uri": "https://localhost:8080/"
        },
        "id": "slD1NmeYwf1L",
        "outputId": "b22f6ef3-8a84-4cd7-b2ae-a02708c80514"
      },
      "execution_count": 11,
      "outputs": [
        {
          "output_type": "stream",
          "name": "stdout",
          "text": [
            "5\n"
          ]
        }
      ]
    },
    {
      "cell_type": "code",
      "source": [
        "vec = np.array([4,7,8,9,10,6,1])\n",
        "print(vec[vec>6])"
      ],
      "metadata": {
        "colab": {
          "base_uri": "https://localhost:8080/"
        },
        "id": "TfhYHFPxwj_u",
        "outputId": "f6b2be43-67fa-45c8-9881-d9e2083feb56"
      },
      "execution_count": 12,
      "outputs": [
        {
          "output_type": "stream",
          "name": "stdout",
          "text": [
            "[ 7  8  9 10]\n"
          ]
        }
      ]
    },
    {
      "cell_type": "code",
      "source": [
        "matrix"
      ],
      "metadata": {
        "colab": {
          "base_uri": "https://localhost:8080/"
        },
        "id": "AgY48GOxwv79",
        "outputId": "4021e529-81b5-4af3-be81-3ab3f372930a"
      },
      "execution_count": 15,
      "outputs": [
        {
          "output_type": "execute_result",
          "data": {
            "text/plain": [
              "array([[1, 2, 3],\n",
              "       [4, 5, 6],\n",
              "       [7, 8, 9]])"
            ]
          },
          "metadata": {},
          "execution_count": 15
        }
      ]
    },
    {
      "cell_type": "code",
      "source": [
        "matrix[0:1, 0:3]"
      ],
      "metadata": {
        "colab": {
          "base_uri": "https://localhost:8080/"
        },
        "id": "kll6BrjRNDbq",
        "outputId": "d9f2f247-851f-4763-def5-6db824f72443"
      },
      "execution_count": 20,
      "outputs": [
        {
          "output_type": "execute_result",
          "data": {
            "text/plain": [
              "array([[1, 2, 3]])"
            ]
          },
          "metadata": {},
          "execution_count": 20
        }
      ]
    },
    {
      "cell_type": "code",
      "source": [
        "print(f\"rand_arr : \\n{rand_arr}\")\n",
        "print(\"------\")\n",
        "print(f\"rand_arr[0:1, 0:3] : \\n{rand_arr[0:1, 0:3]}\")"
      ],
      "metadata": {
        "colab": {
          "base_uri": "https://localhost:8080/"
        },
        "id": "CuBCRighNnHW",
        "outputId": "54f1d50f-28c8-4f60-c5af-43eebc791eda"
      },
      "execution_count": 24,
      "outputs": [
        {
          "output_type": "stream",
          "name": "stdout",
          "text": [
            "rand_arr : \n",
            "[[7 8 5 8 2 8]\n",
            " [7 8 5 9 3 2]\n",
            " [4 5 4 6 7 8]\n",
            " [5 5 3 3 7 9]\n",
            " [3 2 5 3 3 1]\n",
            " [2 5 6 7 6 4]]\n",
            "------\n",
            "rand_arr[0:1, 0:3] : \n",
            "[[7 8 5]]\n"
          ]
        }
      ]
    },
    {
      "cell_type": "code",
      "source": [
        "rand_arr[0:1, 0:3] = 11\n",
        "print(f\"rand_arr[0:1, 0:3] : \\n{rand_arr[0:1, 0:3]}\")"
      ],
      "metadata": {
        "colab": {
          "base_uri": "https://localhost:8080/"
        },
        "id": "VXc_cXN4OBpb",
        "outputId": "b6122957-c083-405e-8e21-aed812493644"
      },
      "execution_count": 25,
      "outputs": [
        {
          "output_type": "stream",
          "name": "stdout",
          "text": [
            "rand_arr[0:1, 0:3] : \n",
            "[[11 11 11]]\n"
          ]
        }
      ]
    },
    {
      "cell_type": "code",
      "source": [
        "print(f\"rand_arr : \\n{rand_arr}\")"
      ],
      "metadata": {
        "colab": {
          "base_uri": "https://localhost:8080/"
        },
        "id": "CwzcTXkZOJ7j",
        "outputId": "1260d7ab-d986-45f4-ad51-2afb1a5b54b9"
      },
      "execution_count": 26,
      "outputs": [
        {
          "output_type": "stream",
          "name": "stdout",
          "text": [
            "rand_arr : \n",
            "[[11 11 11  8  2  8]\n",
            " [ 7  8  5  9  3  2]\n",
            " [ 4  5  4  6  7  8]\n",
            " [ 5  5  3  3  7  9]\n",
            " [ 3  2  5  3  3  1]\n",
            " [ 2  5  6  7  6  4]]\n"
          ]
        }
      ]
    },
    {
      "cell_type": "code",
      "source": [
        "matrix = np.arange(1,10).reshape(3,3)\n",
        "matrix[0:2,1:2] = 0\n",
        "print(matrix)"
      ],
      "metadata": {
        "colab": {
          "base_uri": "https://localhost:8080/"
        },
        "id": "uVcuw8lfP9Ay",
        "outputId": "0dbb39b3-8d3c-4e9b-8f7f-b516712598f4"
      },
      "execution_count": 33,
      "outputs": [
        {
          "output_type": "stream",
          "name": "stdout",
          "text": [
            "[[1 0 3]\n",
            " [4 0 6]\n",
            " [7 8 9]]\n"
          ]
        }
      ]
    },
    {
      "cell_type": "code",
      "source": [
        "sub_mat = rand_arr[1:4, 2:5]\n",
        "sub_mat"
      ],
      "metadata": {
        "colab": {
          "base_uri": "https://localhost:8080/"
        },
        "id": "g2kr1NeLOmGi",
        "outputId": "b3352a1d-f312-4061-cf45-a416a88cf346"
      },
      "execution_count": 35,
      "outputs": [
        {
          "output_type": "execute_result",
          "data": {
            "text/plain": [
              "array([[5, 9, 3],\n",
              "       [4, 6, 7],\n",
              "       [3, 3, 7]])"
            ]
          },
          "metadata": {},
          "execution_count": 35
        }
      ]
    }
  ]
}